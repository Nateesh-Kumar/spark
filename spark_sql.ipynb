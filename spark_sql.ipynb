{
  "nbformat": 4,
  "nbformat_minor": 0,
  "metadata": {
    "colab": {
      "provenance": [],
      "authorship_tag": "ABX9TyPd7LRlFznOeaJss0IUAfQL"
    },
    "kernelspec": {
      "name": "python3",
      "display_name": "Python 3"
    },
    "language_info": {
      "name": "python"
    }
  },
  "cells": [
    {
      "cell_type": "code",
      "execution_count": null,
      "metadata": {
        "colab": {
          "base_uri": "https://localhost:8080/"
        },
        "id": "WJhYihQPVLN5",
        "outputId": "41c04ceb-c744-46d5-9452-d133e78b3d56"
      },
      "outputs": [
        {
          "output_type": "stream",
          "name": "stdout",
          "text": [
            "Requirement already satisfied: pyspark in /usr/local/lib/python3.10/dist-packages (3.5.3)\n",
            "Requirement already satisfied: py4j==0.10.9.7 in /usr/local/lib/python3.10/dist-packages (from pyspark) (0.10.9.7)\n"
          ]
        }
      ],
      "source": [
        "# Install PySpark\n",
        "!pip install pyspark\n"
      ]
    },
    {
      "cell_type": "code",
      "source": [
        "from pyspark.sql import SparkSession\n",
        "\n",
        "# Initialize SparkSession\n",
        "spark = SparkSession.builder \\\n",
        "    .appName(\"Spark SQL Demo\") \\\n",
        "    .getOrCreate()\n",
        "\n",
        "# Check Spark Version\n",
        "print(\"Spark Version:\", spark.version)\n"
      ],
      "metadata": {
        "colab": {
          "base_uri": "https://localhost:8080/"
        },
        "id": "Cfedym6CWPoS",
        "outputId": "a8ebc431-6358-4da2-9e93-cb433a560d77"
      },
      "execution_count": null,
      "outputs": [
        {
          "output_type": "stream",
          "name": "stdout",
          "text": [
            "Spark Version: 3.5.3\n"
          ]
        }
      ]
    },
    {
      "cell_type": "code",
      "source": [
        "# Create sample data\n",
        "data = [\n",
        "    (\"Alice\", 28, \"Data Scientist\"),\n",
        "    (\"Bob\", 35, \"Engineer\"),\n",
        "    (\"Cathy\", 32, \"Analyst\"),\n",
        "]\n",
        "\n",
        "columns = [\"Name\", \"Age\", \"Occupation\"]\n",
        "\n",
        "# Create DataFrame\n",
        "df = spark.createDataFrame(data, columns)\n",
        "\n",
        "# Show the DataFrame\n",
        "df.show()\n"
      ],
      "metadata": {
        "colab": {
          "base_uri": "https://localhost:8080/"
        },
        "id": "O9iCedNyWr0O",
        "outputId": "b1997047-9d69-4819-d757-b4b08b8cf3b8"
      },
      "execution_count": null,
      "outputs": [
        {
          "output_type": "stream",
          "name": "stdout",
          "text": [
            "+-----+---+--------------+\n",
            "| Name|Age|    Occupation|\n",
            "+-----+---+--------------+\n",
            "|Alice| 28|Data Scientist|\n",
            "|  Bob| 35|      Engineer|\n",
            "|Cathy| 32|       Analyst|\n",
            "+-----+---+--------------+\n",
            "\n"
          ]
        }
      ]
    },
    {
      "cell_type": "code",
      "source": [
        "# Register DataFrame as a SQL table\n",
        "df.createOrReplaceTempView(\"people\")\n",
        "\n",
        "# Verify the table creation\n",
        "spark.sql(\"SHOW TABLES\").show()\n"
      ],
      "metadata": {
        "colab": {
          "base_uri": "https://localhost:8080/"
        },
        "id": "QSc9RXUCWzi7",
        "outputId": "2726bb28-3aef-44df-fa37-bedc7e28cff4"
      },
      "execution_count": null,
      "outputs": [
        {
          "output_type": "stream",
          "name": "stdout",
          "text": [
            "+---------+---------+-----------+\n",
            "|namespace|tableName|isTemporary|\n",
            "+---------+---------+-----------+\n",
            "|         |   people|       true|\n",
            "+---------+---------+-----------+\n",
            "\n"
          ]
        }
      ]
    },
    {
      "cell_type": "code",
      "source": [
        "# Query 1: Select all data\n",
        "result = spark.sql(\"SELECT * FROM people\")\n",
        "result.show()\n",
        "\n",
        "# Query 2: Filter rows\n",
        "filtered_result = spark.sql(\"SELECT Name, Age FROM people WHERE Age > 30\")\n",
        "filtered_result.show()\n",
        "\n",
        "# Query 3: Aggregate function\n",
        "average_age = spark.sql(\"SELECT AVG(Age) AS Average_Age FROM people\")\n",
        "average_age.show()\n"
      ],
      "metadata": {
        "colab": {
          "base_uri": "https://localhost:8080/"
        },
        "id": "CPke415NW89M",
        "outputId": "d246e49a-832a-4a1c-879b-3f2cce686667"
      },
      "execution_count": null,
      "outputs": [
        {
          "output_type": "stream",
          "name": "stdout",
          "text": [
            "+-----+---+--------------+\n",
            "| Name|Age|    Occupation|\n",
            "+-----+---+--------------+\n",
            "|Alice| 28|Data Scientist|\n",
            "|  Bob| 35|      Engineer|\n",
            "|Cathy| 32|       Analyst|\n",
            "+-----+---+--------------+\n",
            "\n",
            "+-----+---+\n",
            "| Name|Age|\n",
            "+-----+---+\n",
            "|  Bob| 35|\n",
            "|Cathy| 32|\n",
            "+-----+---+\n",
            "\n",
            "+------------------+\n",
            "|       Average_Age|\n",
            "+------------------+\n",
            "|31.666666666666668|\n",
            "+------------------+\n",
            "\n"
          ]
        }
      ]
    },
    {
      "cell_type": "code",
      "source": [
        "# Query 4: Sort data by age (ascending)\n",
        "sorted_result = spark.sql(\"SELECT * FROM people ORDER BY Age ASC\")\n",
        "sorted_result.show()\n"
      ],
      "metadata": {
        "colab": {
          "base_uri": "https://localhost:8080/"
        },
        "id": "d1W2iOkYXtxw",
        "outputId": "65ffcaf7-d71c-4539-f256-95547d9492be"
      },
      "execution_count": null,
      "outputs": [
        {
          "output_type": "stream",
          "name": "stdout",
          "text": [
            "+-----+---+--------------+\n",
            "| Name|Age|    Occupation|\n",
            "+-----+---+--------------+\n",
            "|Alice| 28|Data Scientist|\n",
            "|Cathy| 32|       Analyst|\n",
            "|  Bob| 35|      Engineer|\n",
            "+-----+---+--------------+\n",
            "\n"
          ]
        }
      ]
    },
    {
      "cell_type": "code",
      "source": [
        "\n",
        "# Query 5: Count the number of people in the dataset\n",
        "count_result = spark.sql(\"SELECT COUNT(*) AS Total_People FROM people\")\n",
        "count_result.show()\n",
        "\n"
      ],
      "metadata": {
        "colab": {
          "base_uri": "https://localhost:8080/"
        },
        "id": "J51fdBKdXzuN",
        "outputId": "2aa6bd69-d2a0-4fd7-d982-24cf9b7b30f2"
      },
      "execution_count": null,
      "outputs": [
        {
          "output_type": "stream",
          "name": "stdout",
          "text": [
            "+------------+\n",
            "|Total_People|\n",
            "+------------+\n",
            "|           3|\n",
            "+------------+\n",
            "\n"
          ]
        }
      ]
    },
    {
      "cell_type": "code",
      "source": [
        "# Query 6: Group by occupation and count\n",
        "grouped_result = spark.sql(\"SELECT Occupation, COUNT(*) AS Count FROM people GROUP BY Occupation\")\n",
        "grouped_result.show()\n",
        "\n"
      ],
      "metadata": {
        "colab": {
          "base_uri": "https://localhost:8080/"
        },
        "id": "sT3IivqDX2y0",
        "outputId": "9cc4c7ef-ae61-49dd-9550-918e1c7041d9"
      },
      "execution_count": null,
      "outputs": [
        {
          "output_type": "stream",
          "name": "stdout",
          "text": [
            "+--------------+-----+\n",
            "|    Occupation|Count|\n",
            "+--------------+-----+\n",
            "|Data Scientist|    1|\n",
            "|       Analyst|    1|\n",
            "|      Engineer|    1|\n",
            "+--------------+-----+\n",
            "\n"
          ]
        }
      ]
    },
    {
      "cell_type": "code",
      "source": [
        "# Query 7: Add a calculated column (age in 5 years)\n",
        "calculated_result = spark.sql(\"SELECT Name, Age, Age + 5 AS Age_In_5_Years FROM people\")\n",
        "calculated_result.show()\n",
        "\n"
      ],
      "metadata": {
        "colab": {
          "base_uri": "https://localhost:8080/"
        },
        "id": "Ai-ozTlVX6gz",
        "outputId": "a4d13524-e569-4881-b295-fa21e42e800f"
      },
      "execution_count": null,
      "outputs": [
        {
          "output_type": "stream",
          "name": "stdout",
          "text": [
            "+-----+---+--------------+\n",
            "| Name|Age|Age_In_5_Years|\n",
            "+-----+---+--------------+\n",
            "|Alice| 28|            33|\n",
            "|  Bob| 35|            40|\n",
            "|Cathy| 32|            37|\n",
            "+-----+---+--------------+\n",
            "\n"
          ]
        }
      ]
    },
    {
      "cell_type": "code",
      "source": [
        "# Query 8: Use WHERE with multiple conditions\n",
        "filtered_conditions = spark.sql(\"SELECT * FROM people WHERE Age > 25 AND Occupation = 'Engineer'\")\n",
        "filtered_conditions.show()\n"
      ],
      "metadata": {
        "colab": {
          "base_uri": "https://localhost:8080/"
        },
        "id": "m2PH-J5gX9Qz",
        "outputId": "602a1a11-bc85-436a-85d1-e592b89f5049"
      },
      "execution_count": null,
      "outputs": [
        {
          "output_type": "stream",
          "name": "stdout",
          "text": [
            "+----+---+----------+\n",
            "|Name|Age|Occupation|\n",
            "+----+---+----------+\n",
            "| Bob| 35|  Engineer|\n",
            "+----+---+----------+\n",
            "\n"
          ]
        }
      ]
    },
    {
      "cell_type": "code",
      "source": [
        "\n",
        "# Query 9: Join Example (Self-Join for Demonstration)\n",
        "# Create another DataFrame for joining\n",
        "additional_data = [\n",
        "    (\"Alice\", \"Team A\"),\n",
        "    (\"Bob\", \"Team B\"),\n",
        "    (\"Cathy\", \"Team A\"),\n",
        "]\n",
        "additional_columns = [\"Name\", \"Team\"]\n",
        "additional_df = spark.createDataFrame(additional_data, additional_columns)\n",
        "\n",
        "# Register additional DataFrame as a SQL table\n",
        "additional_df.createOrReplaceTempView(\"teams\")\n",
        "\n",
        "# Perform a join\n",
        "joined_result = spark.sql(\"\"\"\n",
        "    SELECT p.Name, p.Age, t.Team\n",
        "    FROM people p\n",
        "    JOIN teams t\n",
        "    ON p.Name = t.Name\n",
        "\"\"\")\n",
        "joined_result.show()"
      ],
      "metadata": {
        "colab": {
          "base_uri": "https://localhost:8080/"
        },
        "id": "rHp5DKM0YBo_",
        "outputId": "476b1fa9-f655-4b09-ded8-18c83bf81df6"
      },
      "execution_count": null,
      "outputs": [
        {
          "output_type": "stream",
          "name": "stdout",
          "text": [
            "+-----+---+------+\n",
            "| Name|Age|  Team|\n",
            "+-----+---+------+\n",
            "|Alice| 28|Team A|\n",
            "|  Bob| 35|Team B|\n",
            "|Cathy| 32|Team A|\n",
            "+-----+---+------+\n",
            "\n"
          ]
        }
      ]
    }
  ]
}