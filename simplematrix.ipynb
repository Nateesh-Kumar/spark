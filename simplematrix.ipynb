{
  "nbformat": 4,
  "nbformat_minor": 0,
  "metadata": {
    "colab": {
      "provenance": [],
      "authorship_tag": "ABX9TyN7DKtv0PUYpSpGHqaHTJtk"
    },
    "kernelspec": {
      "name": "python3",
      "display_name": "Python 3"
    },
    "language_info": {
      "name": "python"
    }
  },
  "cells": [
    {
      "cell_type": "code",
      "execution_count": null,
      "metadata": {
        "colab": {
          "base_uri": "https://localhost:8080/"
        },
        "id": "3G23F9fhUol4",
        "outputId": "203d5a8d-afca-46ae-cc2d-e1f40879772e"
      },
      "outputs": [
        {
          "output_type": "stream",
          "name": "stdout",
          "text": [
            "Matrix Addition Result:\n",
            " DenseMatrix([[ 6.,  8.],\n",
            "             [10., 12.]])\n"
          ]
        }
      ],
      "source": [
        "from pyspark.mllib.linalg import Matrices, Vectors\n",
        "from pyspark.mllib.linalg.distributed import RowMatrix\n",
        "from pyspark import SparkContext\n",
        "\n",
        "sc = SparkContext.getOrCreate()\n",
        "\n",
        "# Create dense matrices\n",
        "dense_matrix1 = Matrices.dense(2, 2, [1.0, 2.0, 3.0, 4.0])\n",
        "dense_matrix2 = Matrices.dense(2, 2, [5.0, 6.0, 7.0, 8.0])\n",
        "\n",
        "# Matrix addition - Use numpy for element-wise addition\n",
        "import numpy as np # Import numpy for array operations\n",
        "\n",
        "# Convert DenseMatrix to numpy arrays\n",
        "array1 = np.array(dense_matrix1.toArray())\n",
        "array2 = np.array(dense_matrix2.toArray())\n",
        "\n",
        "# Perform element-wise addition using numpy\n",
        "result_array_add = array1 + array2\n",
        "\n",
        "# Convert the result back to DenseMatrix\n",
        "result_matrix_add = Matrices.dense(result_array_add.shape[0], result_array_add.shape[1], result_array_add.flatten().tolist())\n",
        "\n",
        "print(\"Matrix Addition Result:\\n\", result_matrix_add)\n",
        "\n",
        "\n",
        "\n",
        "sc.stop()"
      ]
    }
  ]
}